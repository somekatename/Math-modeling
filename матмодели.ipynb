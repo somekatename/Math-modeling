{
  "nbformat": 4,
  "nbformat_minor": 0,
  "metadata": {
    "colab": {
      "provenance": []
    },
    "kernelspec": {
      "name": "python3",
      "display_name": "Python 3"
    },
    "language_info": {
      "name": "python"
    }
  },
  "cells": [
    {
      "cell_type": "code",
      "execution_count": null,
      "metadata": {
        "id": "qshpYSaaaJBn"
      },
      "outputs": [],
      "source": [
        " import math as m\n",
        "import numpy as np\n",
        "import sympy as s\n",
        "from scipy.integrate import quad, dblquad\n",
        "import matplotlib.pyplot as plt\n",
        "from mpl_toolkits.axes_grid1.inset_locator import inset_axes\n",
        "\n",
        "alpha = 0.1\n",
        "beta = 0.5\n",
        "y_l = 1\n",
        "y_0 = 0\n",
        "x_0 = 0\n",
        "x_l = 1\n",
        "h = 100\n",
        "step = (x_l - x_0)/h\n",
        "\n",
        "x = s.symbols('x')"
      ]
    },
    {
      "cell_type": "code",
      "source": [
        "dots_y = []\n",
        "for i in range(h+1):\n",
        "    dots_y.append(y_l - step * i)\n",
        "\n",
        "#нач точка\n",
        "y_s = 0\n",
        "x_0 = 0\n",
        "l_k = 0"
      ],
      "metadata": {
        "id": "HAicyeZLa_3h"
      },
      "execution_count": null,
      "outputs": []
    },
    {
      "cell_type": "code",
      "source": [
        "def func_F(x0, x1, y0, y1):\n",
        "  y = y1 + (y1 - y0)/(x1 - x0) * (x - x0)\n",
        "  y_deriv = (y1 - y0)/(x1 - x0)\n",
        "  z_der = 5 * s.cos(5 * x) * s.sin(y) + y_deriv * s.sin(5 * x) * s.cos(y)\n",
        "  return s.expand(s.sqrt(1 + y_deriv**2 + z_der **2))\n",
        "print(func_F(0, 1, 0, 1))"
      ],
      "metadata": {
        "colab": {
          "base_uri": "https://localhost:8080/"
        },
        "id": "t2R6wUfjJZR-",
        "outputId": "4075900d-fd8c-4412-dd8f-9c9814371229"
      },
      "execution_count": null,
      "outputs": [
        {
          "output_type": "stream",
          "name": "stdout",
          "text": [
            "5*sqrt(sin(1/(1.0*x + 1))**2*cos(5*x)**2 + 0.08 + 0.01*sin(5*x)**2*cos(1/(1.0*x + 1))**2/(0.25*x**4 + 1.0*x**3 + 1.5*x**2 + 1.0*x + 0.25) - 0.4*sin(5*x)*sin(1/(1.0*x + 1))*cos(5*x)*cos(1/(1.0*x + 1))/(1.0*x**2 + 2.0*x + 1))\n"
          ]
        }
      ]
    },
    {
      "cell_type": "code",
      "source": [
        "#вычисляем функционал\n",
        "#y_x = np.zeros((h+1, 1))\n",
        "#z_x = np.zeros((h+1, 1))\n",
        "points_x = [0]\n",
        "points_y = [0]\n",
        "x_start = x_0\n",
        "y_start = y_s\n",
        "for i in range(h - 1):\n",
        "    min = 1000\n",
        "    for j in range(h + 1):\n",
        "        # Задаем точку, в которую будем переходить на этом шаге\n",
        "        x1 = x_start + step\n",
        "        y1 = dots_y[j]\n",
        "        # Первое слагаемое функционала\n",
        "        F = s.lambdify(x, func_F(x_start, x1, y_start, y1))\n",
        "        first_add = alpha / 2 * (quad(F, x_start, x1)[0]) ** 2\n",
        "        # Второе слагаемое функционала\n",
        "        second_add = beta * quad(F, x_start, x1)[0]\n",
        "        # Итоговый функционал на этом шаге\n",
        "        J_j = first_add + second_add\n",
        "        # Сравниваем с полученными ранее \"прутиками\" на этом шаге\n",
        "        if (l_k + J_j) < min:\n",
        "            min = l_k + J_j\n",
        "            y_best = y1\n",
        "    l_k = min\n",
        "    x_start = x_start + step\n",
        "    y_start = y_best\n",
        "    print(f'Новая точка: {x_start, y_start}')\n",
        "    points_x.append(x_start)\n",
        "    points_y.append(y_start)\n",
        "points_x.append(x_l)\n",
        "points_y.append(y_l)\n",
        "print(points_x)\n",
        "print(points_y)"
      ],
      "metadata": {
        "colab": {
          "base_uri": "https://localhost:8080/",
          "height": 1000
        },
        "id": "K-mUTAjmavnt",
        "outputId": "04a0c73b-6de7-43f5-9cef-8c7be0b3dbe1",
        "collapsed": true
      },
      "execution_count": null,
      "outputs": [
        {
          "output_type": "stream",
          "name": "stderr",
          "text": [
            "<ipython-input-14-472097a1755f>:16: IntegrationWarning: The maximum number of subdivisions (50) has been achieved.\n",
            "  If increasing the limit yields no improvement it is advised to analyze \n",
            "  the integrand in order to determine the difficulties.  If the position of a \n",
            "  local difficulty can be determined (singularity, discontinuity) one will \n",
            "  probably gain from splitting up the interval and calling the integrator \n",
            "  on the subranges.  Perhaps a special-purpose integrator should be used.\n",
            "  first_add = alpha / 2 * (quad(F, x_start, x1)[0]) ** 2\n",
            "<ipython-input-14-472097a1755f>:18: IntegrationWarning: The maximum number of subdivisions (50) has been achieved.\n",
            "  If increasing the limit yields no improvement it is advised to analyze \n",
            "  the integrand in order to determine the difficulties.  If the position of a \n",
            "  local difficulty can be determined (singularity, discontinuity) one will \n",
            "  probably gain from splitting up the interval and calling the integrator \n",
            "  on the subranges.  Perhaps a special-purpose integrator should be used.\n",
            "  second_add = beta * quad(F, x_start, x1)[0]\n",
            "<ipython-input-14-472097a1755f>:16: IntegrationWarning: The occurrence of roundoff error is detected, which prevents \n",
            "  the requested tolerance from being achieved.  The error may be \n",
            "  underestimated.\n",
            "  first_add = alpha / 2 * (quad(F, x_start, x1)[0]) ** 2\n",
            "<ipython-input-14-472097a1755f>:18: IntegrationWarning: The occurrence of roundoff error is detected, which prevents \n",
            "  the requested tolerance from being achieved.  The error may be \n",
            "  underestimated.\n",
            "  second_add = beta * quad(F, x_start, x1)[0]\n"
          ]
        },
        {
          "output_type": "stream",
          "name": "stdout",
          "text": [
            "Новая точка: (0.01, 0.06999999999999995)\n"
          ]
        },
        {
          "output_type": "stream",
          "name": "stderr",
          "text": [
            "<lambdifygenerated-3766>:2: RuntimeWarning: invalid value encountered in sqrt\n",
            "  return 5*sqrt(sin((0.07 - 3.99999999999999*x)**(-1.0))**2*cos(5*x)**2 + 0.679999999999998 + 0.00250000000000001*sin(5*x)**2*cos((0.07 - 3.99999999999999*x)**(-1.0))**2/(x**4 - 0.0700000000000001*x**3 + 0.0018375*x**2 - 2.14375000000001e-5*x + 9.37890625000005e-8) + 0.1*sin(5*x)*sin((0.07 - 3.99999999999999*x)**(-1.0))*cos(5*x)*cos((0.07 - 3.99999999999999*x)**(-1.0))/(x**2 - 0.035*x + 0.000306250000000001))\n",
            "<lambdifygenerated-3768>:2: RuntimeWarning: invalid value encountered in sqrt\n",
            "  return 6.08276253029821*sqrt(0.675675675675677*sin((0.07 - 5.99999999999999*x)**(-1.0))**2*cos(5*x)**2 + 1 + 0.000750750750750754*sin(5*x)**2*cos((0.07 - 5.99999999999999*x)**(-1.0))**2/(x**4 - 0.0466666666666667*x**3 + 0.000816666666666667*x**2 - 6.35185185185186e-6*x + 1.85262345679013e-8) + 0.0450450450450452*sin(5*x)*sin((0.07 - 5.99999999999999*x)**(-1.0))*cos(5*x)*cos((0.07 - 5.99999999999999*x)**(-1.0))/(x**2 - 0.0233333333333333*x + 0.000136111111111111))\n",
            "<lambdifygenerated-3769>:2: RuntimeWarning: invalid value encountered in sqrt\n",
            "  return 7.07106781186547*sqrt(0.500000000000001*sin((0.07 - 6.99999999999999*x)**(-1.0))**2*cos(5*x)**2 + 1 + 0.000408163265306124*sin(5*x)**2*cos((0.07 - 6.99999999999999*x)**(-1.0))**2/(x**4 - 0.04*x**3 + 0.0006*x**2 - 4.0e-6*x + 1.0e-8) + 0.0285714285714286*sin(5*x)*sin((0.07 - 6.99999999999999*x)**(-1.0))*cos(5*x)*cos((0.07 - 6.99999999999999*x)**(-1.0))/(x**2 - 0.02*x + 0.0001))\n"
          ]
        },
        {
          "output_type": "stream",
          "name": "stdout",
          "text": [
            "Новая точка: (0.02, 0.06999999999999995)\n"
          ]
        },
        {
          "output_type": "stream",
          "name": "stderr",
          "text": [
            "<lambdifygenerated-3868>:2: RuntimeWarning: invalid value encountered in sqrt\n",
            "  return 5.09901951359278*sqrt(0.961538461538464*sin((0.12 - 4.99999999999999*x)**(-1.0))**2*cos(5*x)**2 + 1 + 0.00153846153846155*sin(5*x)**2*cos((0.12 - 4.99999999999999*x)**(-1.0))**2/(x**4 - 0.096*x**3 + 0.003456*x**2 - 5.52960000000001e-5*x + 3.31776000000001e-7) + 0.0769230769230772*sin(5*x)*sin((0.12 - 4.99999999999999*x)**(-1.0))*cos(5*x)*cos((0.12 - 4.99999999999999*x)**(-1.0))/(x**2 - 0.048*x + 0.000576000000000001))\n",
            "<lambdifygenerated-3870>:2: RuntimeWarning: invalid value encountered in sqrt\n",
            "  return 7.07106781186547*sqrt(0.500000000000001*sin((0.14 - 7.0*x)**(-1.0))**2*cos(5*x)**2 + 1 + 0.000408163265306123*sin(5*x)**2*cos((0.14 - 7.0*x)**(-1.0))**2/(x**4 - 0.08*x**3 + 0.0024*x**2 - 3.2e-5*x + 1.6e-7) + 0.0285714285714286*sin(5*x)*sin((0.14 - 7.0*x)**(-1.0))*cos(5*x)*cos((0.14 - 7.0*x)**(-1.0))/(x**2 - 0.04*x + 0.0004))\n"
          ]
        },
        {
          "output_type": "stream",
          "name": "stdout",
          "text": [
            "Новая точка: (0.03, 0.06999999999999995)\n"
          ]
        },
        {
          "output_type": "stream",
          "name": "stderr",
          "text": [
            "<lambdifygenerated-3968>:2: RuntimeWarning: divide by zero encountered in scalar divide\n",
            "  return 5*sqrt(sin((0.15 - 3.99999999999999*x)**(-1.0))**2*cos(5*x)**2 + 0.679999999999997 + 0.00250000000000001*sin(5*x)**2*cos((0.15 - 3.99999999999999*x)**(-1.0))**2/(x**4 - 0.15*x**3 + 0.00843750000000001*x**2 - 0.0002109375*x + 1.9775390625e-6) + 0.1*sin(5*x)*sin((0.15 - 3.99999999999999*x)**(-1.0))*cos(5*x)*cos((0.15 - 3.99999999999999*x)**(-1.0))/(x**2 - 0.075*x + 0.00140625))\n",
            "<lambdifygenerated-3968>:2: RuntimeWarning: invalid value encountered in sqrt\n",
            "  return 5*sqrt(sin((0.15 - 3.99999999999999*x)**(-1.0))**2*cos(5*x)**2 + 0.679999999999997 + 0.00250000000000001*sin(5*x)**2*cos((0.15 - 3.99999999999999*x)**(-1.0))**2/(x**4 - 0.15*x**3 + 0.00843750000000001*x**2 - 0.0002109375*x + 1.9775390625e-6) + 0.1*sin(5*x)*sin((0.15 - 3.99999999999999*x)**(-1.0))*cos(5*x)*cos((0.15 - 3.99999999999999*x)**(-1.0))/(x**2 - 0.075*x + 0.00140625))\n",
            "<lambdifygenerated-3969>:2: RuntimeWarning: invalid value encountered in sqrt\n",
            "  return 5.09901951359278*sqrt(0.961538461538465*sin((0.17 - 4.99999999999999*x)**(-1.0))**2*cos(5*x)**2 + 1 + 0.00153846153846155*sin(5*x)**2*cos((0.17 - 4.99999999999999*x)**(-1.0))**2/(x**4 - 0.136*x**3 + 0.006936*x**2 - 0.000157216*x + 1.336336e-6) + 0.0769230769230773*sin(5*x)*sin((0.17 - 4.99999999999999*x)**(-1.0))*cos(5*x)*cos((0.17 - 4.99999999999999*x)**(-1.0))/(x**2 - 0.068*x + 0.001156))\n",
            "<lambdifygenerated-3970>:2: RuntimeWarning: invalid value encountered in sqrt\n",
            "  return 6.08276253029821*sqrt(0.675675675675677*sin((0.19 - 5.99999999999999*x)**(-1.0))**2*cos(5*x)**2 + 1 + 0.000750750750750754*sin(5*x)**2*cos((0.19 - 5.99999999999999*x)**(-1.0))**2/(x**4 - 0.126666666666667*x**3 + 0.00601666666666667*x**2 - 0.000127018518518519*x + 1.00556327160494e-6) + 0.0450450450450452*sin(5*x)*sin((0.19 - 5.99999999999999*x)**(-1.0))*cos(5*x)*cos((0.19 - 5.99999999999999*x)**(-1.0))/(x**2 - 0.0633333333333333*x + 0.00100277777777778))\n",
            "<lambdifygenerated-3971>:2: RuntimeWarning: invalid value encountered in sqrt\n",
            "  return 7.07106781186547*sqrt(0.500000000000001*sin((0.21 - 6.99999999999999*x)**(-1.0))**2*cos(5*x)**2 + 1 + 0.000408163265306124*sin(5*x)**2*cos((0.21 - 6.99999999999999*x)**(-1.0))**2/(x**4 - 0.12*x**3 + 0.0054*x**2 - 0.000108*x + 8.1e-7) + 0.0285714285714287*sin(5*x)*sin((0.21 - 6.99999999999999*x)**(-1.0))*cos(5*x)*cos((0.21 - 6.99999999999999*x)**(-1.0))/(x**2 - 0.06*x + 0.0009))\n"
          ]
        },
        {
          "output_type": "stream",
          "name": "stdout",
          "text": [
            "Новая точка: (0.04, 0.06999999999999995)\n"
          ]
        },
        {
          "output_type": "stream",
          "name": "stderr",
          "text": [
            "<lambdifygenerated-4069>:2: RuntimeWarning: divide by zero encountered in scalar divide\n",
            "  return 5*sqrt(sin((0.19 - 3.99999999999999*x)**(-1.0))**2*cos(5*x)**2 + 0.679999999999997 + 0.00250000000000001*sin(5*x)**2*cos((0.19 - 3.99999999999999*x)**(-1.0))**2/(x**4 - 0.19*x**3 + 0.0135375*x**2 - 0.000428687500000001*x + 5.09066406250001e-6) + 0.1*sin(5*x)*sin((0.19 - 3.99999999999999*x)**(-1.0))*cos(5*x)*cos((0.19 - 3.99999999999999*x)**(-1.0))/(x**2 - 0.095*x + 0.00225625))\n",
            "<lambdifygenerated-4069>:2: RuntimeWarning: invalid value encountered in sqrt\n",
            "  return 5*sqrt(sin((0.19 - 3.99999999999999*x)**(-1.0))**2*cos(5*x)**2 + 0.679999999999997 + 0.00250000000000001*sin(5*x)**2*cos((0.19 - 3.99999999999999*x)**(-1.0))**2/(x**4 - 0.19*x**3 + 0.0135375*x**2 - 0.000428687500000001*x + 5.09066406250001e-6) + 0.1*sin(5*x)*sin((0.19 - 3.99999999999999*x)**(-1.0))*cos(5*x)*cos((0.19 - 3.99999999999999*x)**(-1.0))/(x**2 - 0.095*x + 0.00225625))\n",
            "<lambdifygenerated-4070>:2: RuntimeWarning: invalid value encountered in sqrt\n",
            "  return 5.09901951359278*sqrt(0.961538461538465*sin((0.22 - 4.99999999999999*x)**(-1.0))**2*cos(5*x)**2 + 1 + 0.00153846153846155*sin(5*x)**2*cos((0.22 - 4.99999999999999*x)**(-1.0))**2/(x**4 - 0.176*x**3 + 0.011616*x**2 - 0.000340736*x + 3.748096e-6) + 0.0769230769230773*sin(5*x)*sin((0.22 - 4.99999999999999*x)**(-1.0))*cos(5*x)*cos((0.22 - 4.99999999999999*x)**(-1.0))/(x**2 - 0.088*x + 0.001936))\n",
            "<lambdifygenerated-4072>:2: RuntimeWarning: invalid value encountered in sqrt\n",
            "  return 7.07106781186547*sqrt(0.500000000000001*sin((0.28 - 6.99999999999999*x)**(-1.0))**2*cos(5*x)**2 + 1 + 0.000408163265306124*sin(5*x)**2*cos((0.28 - 6.99999999999999*x)**(-1.0))**2/(x**4 - 0.16*x**3 + 0.0096*x**2 - 0.000256*x + 2.56e-6) + 0.0285714285714287*sin(5*x)*sin((0.28 - 6.99999999999999*x)**(-1.0))*cos(5*x)*cos((0.28 - 6.99999999999999*x)**(-1.0))/(x**2 - 0.08*x + 0.0016))\n"
          ]
        },
        {
          "output_type": "stream",
          "name": "stdout",
          "text": [
            "Новая точка: (0.05, 0.06999999999999995)\n"
          ]
        },
        {
          "output_type": "stream",
          "name": "stderr",
          "text": [
            "<lambdifygenerated-4170>:2: RuntimeWarning: divide by zero encountered in scalar divide\n",
            "  return 5*sqrt(sin((0.23 - 3.99999999999999*x)**(-1.0))**2*cos(5*x)**2 + 0.679999999999997 + 0.00250000000000001*sin(5*x)**2*cos((0.23 - 3.99999999999999*x)**(-1.0))**2/(x**4 - 0.23*x**3 + 0.0198375*x**2 - 0.000760437500000001*x + 1.09312890625e-5) + 0.1*sin(5*x)*sin((0.23 - 3.99999999999999*x)**(-1.0))*cos(5*x)*cos((0.23 - 3.99999999999999*x)**(-1.0))/(x**2 - 0.115*x + 0.00330625))\n",
            "<lambdifygenerated-4170>:2: RuntimeWarning: invalid value encountered in sqrt\n",
            "  return 5*sqrt(sin((0.23 - 3.99999999999999*x)**(-1.0))**2*cos(5*x)**2 + 0.679999999999997 + 0.00250000000000001*sin(5*x)**2*cos((0.23 - 3.99999999999999*x)**(-1.0))**2/(x**4 - 0.23*x**3 + 0.0198375*x**2 - 0.000760437500000001*x + 1.09312890625e-5) + 0.1*sin(5*x)*sin((0.23 - 3.99999999999999*x)**(-1.0))*cos(5*x)*cos((0.23 - 3.99999999999999*x)**(-1.0))/(x**2 - 0.115*x + 0.00330625))\n",
            "<lambdifygenerated-4171>:2: RuntimeWarning: divide by zero encountered in scalar divide\n",
            "  return 5.09901951359278*sqrt(0.961538461538465*sin((0.27 - 4.99999999999999*x)**(-1.0))**2*cos(5*x)**2 + 1 + 0.00153846153846155*sin(5*x)**2*cos((0.27 - 4.99999999999999*x)**(-1.0))**2/(x**4 - 0.216*x**3 + 0.017496*x**2 - 0.000629856*x + 8.50305600000001e-6) + 0.0769230769230773*sin(5*x)*sin((0.27 - 4.99999999999999*x)**(-1.0))*cos(5*x)*cos((0.27 - 4.99999999999999*x)**(-1.0))/(x**2 - 0.108*x + 0.002916))\n",
            "<ipython-input-14-472097a1755f>:16: IntegrationWarning: The integral is probably divergent, or slowly convergent.\n",
            "  first_add = alpha / 2 * (quad(F, x_start, x1)[0]) ** 2\n",
            "<ipython-input-14-472097a1755f>:18: IntegrationWarning: The integral is probably divergent, or slowly convergent.\n",
            "  second_add = beta * quad(F, x_start, x1)[0]\n",
            "<lambdifygenerated-4173>:2: RuntimeWarning: invalid value encountered in sqrt\n",
            "  return 7.07106781186547*sqrt(0.500000000000001*sin((0.35 - 6.99999999999999*x)**(-1.0))**2*cos(5*x)**2 + 1 + 0.000408163265306124*sin(5*x)**2*cos((0.35 - 6.99999999999999*x)**(-1.0))**2/(x**4 - 0.2*x**3 + 0.015*x**2 - 0.0005*x + 6.25e-6) + 0.0285714285714287*sin(5*x)*sin((0.35 - 6.99999999999999*x)**(-1.0))*cos(5*x)*cos((0.35 - 6.99999999999999*x)**(-1.0))/(x**2 - 0.1*x + 0.0025))\n"
          ]
        },
        {
          "output_type": "stream",
          "name": "stdout",
          "text": [
            "Новая точка: (0.060000000000000005, 0.06999999999999995)\n"
          ]
        },
        {
          "output_type": "stream",
          "name": "stderr",
          "text": [
            "<lambdifygenerated-4271>:2: RuntimeWarning: divide by zero encountered in scalar divide\n",
            "  return 5*sqrt(sin((0.27 - 3.99999999999999*x)**(-1.0))**2*cos(5*x)**2 + 0.679999999999997 + 0.00250000000000001*sin(5*x)**2*cos((0.27 - 3.99999999999999*x)**(-1.0))**2/(x**4 - 0.27*x**3 + 0.0273375*x**2 - 0.0012301875*x + 2.07594140625e-5) + 0.1*sin(5*x)*sin((0.27 - 3.99999999999999*x)**(-1.0))*cos(5*x)*cos((0.27 - 3.99999999999999*x)**(-1.0))/(x**2 - 0.135*x + 0.00455625))\n",
            "<lambdifygenerated-4271>:2: RuntimeWarning: invalid value encountered in sqrt\n",
            "  return 5*sqrt(sin((0.27 - 3.99999999999999*x)**(-1.0))**2*cos(5*x)**2 + 0.679999999999997 + 0.00250000000000001*sin(5*x)**2*cos((0.27 - 3.99999999999999*x)**(-1.0))**2/(x**4 - 0.27*x**3 + 0.0273375*x**2 - 0.0012301875*x + 2.07594140625e-5) + 0.1*sin(5*x)*sin((0.27 - 3.99999999999999*x)**(-1.0))*cos(5*x)*cos((0.27 - 3.99999999999999*x)**(-1.0))/(x**2 - 0.135*x + 0.00455625))\n",
            "<lambdifygenerated-4272>:2: RuntimeWarning: invalid value encountered in sqrt\n",
            "  return 5.09901951359278*sqrt(0.961538461538465*sin((0.32 - 4.99999999999999*x)**(-1.0))**2*cos(5*x)**2 + 1 + 0.00153846153846155*sin(5*x)**2*cos((0.32 - 4.99999999999999*x)**(-1.0))**2/(x**4 - 0.256*x**3 + 0.024576*x**2 - 0.001048576*x + 1.6777216e-5) + 0.0769230769230773*sin(5*x)*sin((0.32 - 4.99999999999999*x)**(-1.0))*cos(5*x)*cos((0.32 - 4.99999999999999*x)**(-1.0))/(x**2 - 0.128*x + 0.004096))\n",
            "<lambdifygenerated-4274>:2: RuntimeWarning: invalid value encountered in sqrt\n",
            "  return 7.07106781186547*sqrt(0.500000000000001*sin((0.42 - 6.99999999999999*x)**(-1.0))**2*cos(5*x)**2 + 1 + 0.000408163265306124*sin(5*x)**2*cos((0.42 - 6.99999999999999*x)**(-1.0))**2/(x**4 - 0.24*x**3 + 0.0216*x**2 - 0.000864*x + 1.296e-5) + 0.0285714285714287*sin(5*x)*sin((0.42 - 6.99999999999999*x)**(-1.0))*cos(5*x)*cos((0.42 - 6.99999999999999*x)**(-1.0))/(x**2 - 0.12*x + 0.0036))\n"
          ]
        },
        {
          "output_type": "stream",
          "name": "stdout",
          "text": [
            "Новая точка: (0.07, 0.06999999999999995)\n"
          ]
        },
        {
          "output_type": "stream",
          "name": "stderr",
          "text": [
            "<lambdifygenerated-4372>:2: RuntimeWarning: divide by zero encountered in scalar divide\n",
            "  return 5*sqrt(sin((0.31 - 3.99999999999999*x)**(-1.0))**2*cos(5*x)**2 + 0.679999999999998 + 0.00250000000000001*sin(5*x)**2*cos((0.31 - 3.99999999999999*x)**(-1.0))**2/(x**4 - 0.31*x**3 + 0.0360375*x**2 - 0.0018619375*x + 3.60750390625001e-5) + 0.1*sin(5*x)*sin((0.31 - 3.99999999999999*x)**(-1.0))*cos(5*x)*cos((0.31 - 3.99999999999999*x)**(-1.0))/(x**2 - 0.155*x + 0.00600625))\n",
            "<lambdifygenerated-4372>:2: RuntimeWarning: invalid value encountered in sqrt\n",
            "  return 5*sqrt(sin((0.31 - 3.99999999999999*x)**(-1.0))**2*cos(5*x)**2 + 0.679999999999998 + 0.00250000000000001*sin(5*x)**2*cos((0.31 - 3.99999999999999*x)**(-1.0))**2/(x**4 - 0.31*x**3 + 0.0360375*x**2 - 0.0018619375*x + 3.60750390625001e-5) + 0.1*sin(5*x)*sin((0.31 - 3.99999999999999*x)**(-1.0))*cos(5*x)*cos((0.31 - 3.99999999999999*x)**(-1.0))/(x**2 - 0.155*x + 0.00600625))\n",
            "<lambdifygenerated-4375>:2: RuntimeWarning: invalid value encountered in sqrt\n",
            "  return 7.07106781186547*sqrt(0.5*sin((0.49 - 7.0*x)**(-1.0))**2*cos(5*x)**2 + 1 + 0.000408163265306123*sin(5*x)**2*cos((0.49 - 7.0*x)**(-1.0))**2/(x**4 - 0.28*x**3 + 0.0294*x**2 - 0.001372*x + 2.401e-5) + 0.0285714285714286*sin(5*x)*sin((0.49 - 7.0*x)**(-1.0))*cos(5*x)*cos((0.49 - 7.0*x)**(-1.0))/(x**2 - 0.14*x + 0.0049))\n"
          ]
        },
        {
          "output_type": "stream",
          "name": "stdout",
          "text": [
            "Новая точка: (0.08, 0.06999999999999995)\n"
          ]
        },
        {
          "output_type": "stream",
          "name": "stderr",
          "text": [
            "<lambdifygenerated-4474>:2: RuntimeWarning: invalid value encountered in sqrt\n",
            "  return 5.09901951359278*sqrt(0.961538461538463*sin((0.42 - 5.0*x)**(-1.0))**2*cos(5*x)**2 + 1 + 0.00153846153846154*sin(5*x)**2*cos((0.42 - 5.0*x)**(-1.0))**2/(x**4 - 0.336*x**3 + 0.042336*x**2 - 0.002370816*x + 4.9787136e-5) + 0.0769230769230771*sin(5*x)*sin((0.42 - 5.0*x)**(-1.0))*cos(5*x)*cos((0.42 - 5.0*x)**(-1.0))/(x**2 - 0.168*x + 0.007056))\n",
            "<lambdifygenerated-4475>:2: RuntimeWarning: invalid value encountered in sqrt\n",
            "  return 6.08276253029822*sqrt(0.675675675675676*sin((0.49 - 6.0*x)**(-1.0))**2*cos(5*x)**2 + 1 + 0.000750750750750752*sin(5*x)**2*cos((0.49 - 6.0*x)**(-1.0))**2/(x**4 - 0.326666666666667*x**3 + 0.0400166666666667*x**2 - 0.00217868518518519*x + 4.44814891975309e-5) + 0.0450450450450451*sin(5*x)*sin((0.49 - 6.0*x)**(-1.0))*cos(5*x)*cos((0.49 - 6.0*x)**(-1.0))/(x**2 - 0.163333333333333*x + 0.00666944444444445))\n",
            "<lambdifygenerated-4476>:2: RuntimeWarning: invalid value encountered in sqrt\n",
            "  return 7.07106781186547*sqrt(0.5*sin((0.56 - 7.0*x)**(-1.0))**2*cos(5*x)**2 + 1 + 0.000408163265306123*sin(5*x)**2*cos((0.56 - 7.0*x)**(-1.0))**2/(x**4 - 0.32*x**3 + 0.0384*x**2 - 0.002048*x + 4.096e-5) + 0.0285714285714286*sin(5*x)*sin((0.56 - 7.0*x)**(-1.0))*cos(5*x)*cos((0.56 - 7.0*x)**(-1.0))/(x**2 - 0.16*x + 0.0064))\n"
          ]
        },
        {
          "output_type": "stream",
          "name": "stdout",
          "text": [
            "Новая точка: (0.09, 0.06999999999999995)\n"
          ]
        },
        {
          "output_type": "stream",
          "name": "stderr",
          "text": [
            "<lambdifygenerated-4574>:2: RuntimeWarning: divide by zero encountered in scalar divide\n",
            "  return 5*sqrt(sin((0.39 - 3.99999999999999*x)**(-1.0))**2*cos(5*x)**2 + 0.679999999999998 + 0.00250000000000001*sin(5*x)**2*cos((0.39 - 3.99999999999999*x)**(-1.0))**2/(x**4 - 0.39*x**3 + 0.0570375*x**2 - 0.0037074375*x + 9.03687890625e-5) + 0.1*sin(5*x)*sin((0.39 - 3.99999999999999*x)**(-1.0))*cos(5*x)*cos((0.39 - 3.99999999999999*x)**(-1.0))/(x**2 - 0.195*x + 0.00950625))\n",
            "<lambdifygenerated-4574>:2: RuntimeWarning: invalid value encountered in sqrt\n",
            "  return 5*sqrt(sin((0.39 - 3.99999999999999*x)**(-1.0))**2*cos(5*x)**2 + 0.679999999999998 + 0.00250000000000001*sin(5*x)**2*cos((0.39 - 3.99999999999999*x)**(-1.0))**2/(x**4 - 0.39*x**3 + 0.0570375*x**2 - 0.0037074375*x + 9.03687890625e-5) + 0.1*sin(5*x)*sin((0.39 - 3.99999999999999*x)**(-1.0))*cos(5*x)*cos((0.39 - 3.99999999999999*x)**(-1.0))/(x**2 - 0.195*x + 0.00950625))\n",
            "<lambdifygenerated-4575>:2: RuntimeWarning: invalid value encountered in sqrt\n",
            "  return 5.09901951359278*sqrt(0.961538461538463*sin((0.47 - 5.0*x)**(-1.0))**2*cos(5*x)**2 + 1 + 0.00153846153846154*sin(5*x)**2*cos((0.47 - 5.0*x)**(-1.0))**2/(x**4 - 0.376*x**3 + 0.053016*x**2 - 0.003322336*x + 7.8074896e-5) + 0.0769230769230771*sin(5*x)*sin((0.47 - 5.0*x)**(-1.0))*cos(5*x)*cos((0.47 - 5.0*x)**(-1.0))/(x**2 - 0.188*x + 0.008836))\n",
            "<lambdifygenerated-4576>:2: RuntimeWarning: invalid value encountered in sqrt\n",
            "  return 6.08276253029822*sqrt(0.675675675675676*sin((0.55 - 6.0*x)**(-1.0))**2*cos(5*x)**2 + 1 + 0.000750750750750752*sin(5*x)**2*cos((0.55 - 6.0*x)**(-1.0))**2/(x**4 - 0.366666666666667*x**3 + 0.0504166666666667*x**2 - 0.00308101851851852*x + 7.0606674382716e-5) + 0.0450450450450451*sin(5*x)*sin((0.55 - 6.0*x)**(-1.0))*cos(5*x)*cos((0.55 - 6.0*x)**(-1.0))/(x**2 - 0.183333333333333*x + 0.00840277777777778))\n",
            "<lambdifygenerated-4577>:2: RuntimeWarning: invalid value encountered in sqrt\n",
            "  return 7.07106781186547*sqrt(0.5*sin((0.63 - 7.0*x)**(-1.0))**2*cos(5*x)**2 + 1 + 0.000408163265306123*sin(5*x)**2*cos((0.63 - 7.0*x)**(-1.0))**2/(x**4 - 0.36*x**3 + 0.0486*x**2 - 0.002916*x + 6.561e-5) + 0.0285714285714286*sin(5*x)*sin((0.63 - 7.0*x)**(-1.0))*cos(5*x)*cos((0.63 - 7.0*x)**(-1.0))/(x**2 - 0.18*x + 0.0081))\n"
          ]
        },
        {
          "output_type": "stream",
          "name": "stdout",
          "text": [
            "Новая точка: (0.09999999999999999, 0.06999999999999995)\n"
          ]
        },
        {
          "output_type": "stream",
          "name": "stderr",
          "text": [
            "<lambdifygenerated-4675>:2: RuntimeWarning: divide by zero encountered in scalar divide\n",
            "  return 5*sqrt(sin((0.429999999999999 - 3.99999999999999*x)**(-1.0))**2*cos(5*x)**2 + 0.679999999999998 + 0.00250000000000001*sin(5*x)**2*cos((0.429999999999999 - 3.99999999999999*x)**(-1.0))**2/(x**4 - 0.43*x**3 + 0.0693375*x**2 - 0.0049691875*x + 0.0001335469140625) + 0.1*sin(5*x)*sin((0.429999999999999 - 3.99999999999999*x)**(-1.0))*cos(5*x)*cos((0.429999999999999 - 3.99999999999999*x)**(-1.0))/(x**2 - 0.215*x + 0.01155625))\n",
            "<lambdifygenerated-4675>:2: RuntimeWarning: invalid value encountered in sqrt\n",
            "  return 5*sqrt(sin((0.429999999999999 - 3.99999999999999*x)**(-1.0))**2*cos(5*x)**2 + 0.679999999999998 + 0.00250000000000001*sin(5*x)**2*cos((0.429999999999999 - 3.99999999999999*x)**(-1.0))**2/(x**4 - 0.43*x**3 + 0.0693375*x**2 - 0.0049691875*x + 0.0001335469140625) + 0.1*sin(5*x)*sin((0.429999999999999 - 3.99999999999999*x)**(-1.0))*cos(5*x)*cos((0.429999999999999 - 3.99999999999999*x)**(-1.0))/(x**2 - 0.215*x + 0.01155625))\n",
            "<lambdifygenerated-4676>:2: RuntimeWarning: invalid value encountered in sqrt\n",
            "  return 5.09901951359278*sqrt(0.961538461538463*sin((0.52 - 5.0*x)**(-1.0))**2*cos(5*x)**2 + 1 + 0.00153846153846154*sin(5*x)**2*cos((0.52 - 5.0*x)**(-1.0))**2/(x**4 - 0.416*x**3 + 0.064896*x**2 - 0.004499456*x + 0.000116985856) + 0.0769230769230771*sin(5*x)*sin((0.52 - 5.0*x)**(-1.0))*cos(5*x)*cos((0.52 - 5.0*x)**(-1.0))/(x**2 - 0.208*x + 0.010816))\n",
            "<lambdifygenerated-4678>:2: RuntimeWarning: invalid value encountered in sqrt\n",
            "  return 7.07106781186547*sqrt(0.5*sin((0.7 - 7.0*x)**(-1.0))**2*cos(5*x)**2 + 1 + 0.000408163265306123*sin(5*x)**2*cos((0.7 - 7.0*x)**(-1.0))**2/(x**4 - 0.4*x**3 + 0.06*x**2 - 0.004*x + 0.0001) + 0.0285714285714286*sin(5*x)*sin((0.7 - 7.0*x)**(-1.0))*cos(5*x)*cos((0.7 - 7.0*x)**(-1.0))/(x**2 - 0.2*x + 0.01))\n"
          ]
        },
        {
          "output_type": "stream",
          "name": "stdout",
          "text": [
            "Новая точка: (0.10999999999999999, 0.06999999999999995)\n"
          ]
        },
        {
          "output_type": "stream",
          "name": "stderr",
          "text": [
            "<lambdifygenerated-4776>:2: RuntimeWarning: invalid value encountered in sqrt\n",
            "  return 5*sqrt(sin((0.469999999999999 - 3.99999999999999*x)**(-1.0))**2*cos(5*x)**2 + 0.679999999999998 + 0.00250000000000001*sin(5*x)**2*cos((0.469999999999999 - 3.99999999999999*x)**(-1.0))**2/(x**4 - 0.47*x**3 + 0.0828375*x**2 - 0.0064889375*x + 0.0001906125390625) + 0.1*sin(5*x)*sin((0.469999999999999 - 3.99999999999999*x)**(-1.0))*cos(5*x)*cos((0.469999999999999 - 3.99999999999999*x)**(-1.0))/(x**2 - 0.235*x + 0.01380625))\n",
            "<lambdifygenerated-4777>:2: RuntimeWarning: invalid value encountered in sqrt\n",
            "  return 5.09901951359278*sqrt(0.961538461538463*sin((0.57 - 5.0*x)**(-1.0))**2*cos(5*x)**2 + 1 + 0.00153846153846154*sin(5*x)**2*cos((0.57 - 5.0*x)**(-1.0))**2/(x**4 - 0.456*x**3 + 0.077976*x**2 - 0.005926176*x + 0.000168896016) + 0.0769230769230771*sin(5*x)*sin((0.57 - 5.0*x)**(-1.0))*cos(5*x)*cos((0.57 - 5.0*x)**(-1.0))/(x**2 - 0.228*x + 0.012996))\n",
            "<lambdifygenerated-4778>:2: RuntimeWarning: invalid value encountered in sqrt\n",
            "  return 6.08276253029822*sqrt(0.675675675675676*sin((0.67 - 6.0*x)**(-1.0))**2*cos(5*x)**2 + 1 + 0.000750750750750752*sin(5*x)**2*cos((0.67 - 6.0*x)**(-1.0))**2/(x**4 - 0.446666666666667*x**3 + 0.0748166666666666*x**2 - 0.00556968518518518*x + 0.000155487044753086) + 0.0450450450450451*sin(5*x)*sin((0.67 - 6.0*x)**(-1.0))*cos(5*x)*cos((0.67 - 6.0*x)**(-1.0))/(x**2 - 0.223333333333333*x + 0.0124694444444444))\n",
            "<lambdifygenerated-4779>:2: RuntimeWarning: invalid value encountered in sqrt\n",
            "  return 7.07106781186547*sqrt(0.5*sin((0.77 - 7.0*x)**(-1.0))**2*cos(5*x)**2 + 1 + 0.000408163265306123*sin(5*x)**2*cos((0.77 - 7.0*x)**(-1.0))**2/(x**4 - 0.44*x**3 + 0.0726*x**2 - 0.005324*x + 0.00014641) + 0.0285714285714286*sin(5*x)*sin((0.77 - 7.0*x)**(-1.0))*cos(5*x)*cos((0.77 - 7.0*x)**(-1.0))/(x**2 - 0.22*x + 0.0121))\n"
          ]
        },
        {
          "output_type": "stream",
          "name": "stdout",
          "text": [
            "Новая точка: (0.11999999999999998, 0.06999999999999995)\n"
          ]
        },
        {
          "output_type": "stream",
          "name": "stderr",
          "text": [
            "<lambdifygenerated-4877>:2: RuntimeWarning: divide by zero encountered in scalar divide\n",
            "  return 5*sqrt(sin((0.509999999999999 - 3.99999999999999*x)**(-1.0))**2*cos(5*x)**2 + 0.679999999999998 + 0.00250000000000001*sin(5*x)**2*cos((0.509999999999999 - 3.99999999999999*x)**(-1.0))**2/(x**4 - 0.51*x**3 + 0.0975375*x**2 - 0.0082906875*x + 0.0002642656640625) + 0.1*sin(5*x)*sin((0.509999999999999 - 3.99999999999999*x)**(-1.0))*cos(5*x)*cos((0.509999999999999 - 3.99999999999999*x)**(-1.0))/(x**2 - 0.255*x + 0.01625625))\n",
            "<lambdifygenerated-4877>:2: RuntimeWarning: invalid value encountered in sqrt\n",
            "  return 5*sqrt(sin((0.509999999999999 - 3.99999999999999*x)**(-1.0))**2*cos(5*x)**2 + 0.679999999999998 + 0.00250000000000001*sin(5*x)**2*cos((0.509999999999999 - 3.99999999999999*x)**(-1.0))**2/(x**4 - 0.51*x**3 + 0.0975375*x**2 - 0.0082906875*x + 0.0002642656640625) + 0.1*sin(5*x)*sin((0.509999999999999 - 3.99999999999999*x)**(-1.0))*cos(5*x)*cos((0.509999999999999 - 3.99999999999999*x)**(-1.0))/(x**2 - 0.255*x + 0.01625625))\n",
            "<lambdifygenerated-4878>:2: RuntimeWarning: invalid value encountered in sqrt\n",
            "  return 5.09901951359278*sqrt(0.961538461538463*sin((0.619999999999999 - 5.0*x)**(-1.0))**2*cos(5*x)**2 + 1 + 0.00153846153846154*sin(5*x)**2*cos((0.619999999999999 - 5.0*x)**(-1.0))**2/(x**4 - 0.496*x**3 + 0.092256*x**2 - 0.007626496*x + 0.000236421376) + 0.0769230769230771*sin(5*x)*sin((0.619999999999999 - 5.0*x)**(-1.0))*cos(5*x)*cos((0.619999999999999 - 5.0*x)**(-1.0))/(x**2 - 0.248*x + 0.015376))\n",
            "<lambdifygenerated-4879>:2: RuntimeWarning: invalid value encountered in sqrt\n",
            "  return 6.08276253029822*sqrt(0.675675675675676*sin((0.73 - 6.0*x)**(-1.0))**2*cos(5*x)**2 + 1 + 0.000750750750750752*sin(5*x)**2*cos((0.73 - 6.0*x)**(-1.0))**2/(x**4 - 0.486666666666667*x**3 + 0.0888166666666666*x**2 - 0.00720401851851851*x + 0.000219122229938271) + 0.0450450450450451*sin(5*x)*sin((0.73 - 6.0*x)**(-1.0))*cos(5*x)*cos((0.73 - 6.0*x)**(-1.0))/(x**2 - 0.243333333333333*x + 0.0148027777777778))\n",
            "<lambdifygenerated-4880>:2: RuntimeWarning: invalid value encountered in sqrt\n",
            "  return 7.07106781186547*sqrt(0.5*sin((0.84 - 7.0*x)**(-1.0))**2*cos(5*x)**2 + 1 + 0.000408163265306123*sin(5*x)**2*cos((0.84 - 7.0*x)**(-1.0))**2/(x**4 - 0.48*x**3 + 0.0864*x**2 - 0.006912*x + 0.00020736) + 0.0285714285714286*sin(5*x)*sin((0.84 - 7.0*x)**(-1.0))*cos(5*x)*cos((0.84 - 7.0*x)**(-1.0))/(x**2 - 0.24*x + 0.0144))\n"
          ]
        },
        {
          "output_type": "stream",
          "name": "stdout",
          "text": [
            "Новая точка: (0.12999999999999998, 0.06999999999999995)\n"
          ]
        },
        {
          "output_type": "stream",
          "name": "stderr",
          "text": [
            "<lambdifygenerated-4978>:2: RuntimeWarning: invalid value encountered in sqrt\n",
            "  return 5*sqrt(sin((0.549999999999998 - 3.99999999999999*x)**(-1.0))**2*cos(5*x)**2 + 0.679999999999996 + 0.00250000000000001*sin(5*x)**2*cos((0.549999999999998 - 3.99999999999999*x)**(-1.0))**2/(x**4 - 0.55*x**3 + 0.1134375*x**2 - 0.0103984375*x + 0.0003574462890625) + 0.1*sin(5*x)*sin((0.549999999999998 - 3.99999999999999*x)**(-1.0))*cos(5*x)*cos((0.549999999999998 - 3.99999999999999*x)**(-1.0))/(x**2 - 0.275*x + 0.01890625))\n",
            "<lambdifygenerated-4979>:2: RuntimeWarning: invalid value encountered in sqrt\n",
            "  return 5.09901951359277*sqrt(0.961538461538465*sin((0.669999999999998 - 4.99999999999999*x)**(-1.0))**2*cos(5*x)**2 + 1 + 0.00153846153846155*sin(5*x)**2*cos((0.669999999999998 - 4.99999999999999*x)**(-1.0))**2/(x**4 - 0.536*x**3 + 0.107736*x**2 - 0.009624416*x + 0.000322417936) + 0.0769230769230774*sin(5*x)*sin((0.669999999999998 - 4.99999999999999*x)**(-1.0))*cos(5*x)*cos((0.669999999999998 - 4.99999999999999*x)**(-1.0))/(x**2 - 0.268*x + 0.017956))\n",
            "<lambdifygenerated-4981>:2: RuntimeWarning: invalid value encountered in sqrt\n",
            "  return 7.07106781186546*sqrt(0.500000000000001*sin((0.909999999999998 - 6.99999999999999*x)**(-1.0))**2*cos(5*x)**2 + 1 + 0.000408163265306125*sin(5*x)**2*cos((0.909999999999998 - 6.99999999999999*x)**(-1.0))**2/(x**4 - 0.52*x**3 + 0.1014*x**2 - 0.008788*x + 0.00028561) + 0.0285714285714287*sin(5*x)*sin((0.909999999999998 - 6.99999999999999*x)**(-1.0))*cos(5*x)*cos((0.909999999999998 - 6.99999999999999*x)**(-1.0))/(x**2 - 0.26*x + 0.0169))\n"
          ]
        },
        {
          "output_type": "stream",
          "name": "stdout",
          "text": [
            "Новая точка: (0.13999999999999999, 0.06999999999999995)\n"
          ]
        },
        {
          "output_type": "stream",
          "name": "stderr",
          "text": [
            "<lambdifygenerated-5079>:2: RuntimeWarning: invalid value encountered in sqrt\n",
            "  return 5*sqrt(sin((0.589999999999998 - 3.99999999999999*x)**(-1.0))**2*cos(5*x)**2 + 0.679999999999996 + 0.00250000000000001*sin(5*x)**2*cos((0.589999999999998 - 3.99999999999999*x)**(-1.0))**2/(x**4 - 0.59*x**3 + 0.1305375*x**2 - 0.0128361875*x + 0.0004733344140625) + 0.1*sin(5*x)*sin((0.589999999999998 - 3.99999999999999*x)**(-1.0))*cos(5*x)*cos((0.589999999999998 - 3.99999999999999*x)**(-1.0))/(x**2 - 0.295*x + 0.02175625))\n",
            "<lambdifygenerated-5080>:2: RuntimeWarning: invalid value encountered in sqrt\n",
            "  return 5.09901951359277*sqrt(0.961538461538465*sin((0.719999999999998 - 4.99999999999999*x)**(-1.0))**2*cos(5*x)**2 + 1 + 0.00153846153846155*sin(5*x)**2*cos((0.719999999999998 - 4.99999999999999*x)**(-1.0))**2/(x**4 - 0.576*x**3 + 0.124416*x**2 - 0.011943936*x + 0.000429981696) + 0.0769230769230774*sin(5*x)*sin((0.719999999999998 - 4.99999999999999*x)**(-1.0))*cos(5*x)*cos((0.719999999999998 - 4.99999999999999*x)**(-1.0))/(x**2 - 0.288*x + 0.020736))\n",
            "<lambdifygenerated-5082>:2: RuntimeWarning: invalid value encountered in sqrt\n",
            "  return 7.07106781186546*sqrt(0.500000000000001*sin((0.979999999999998 - 6.99999999999999*x)**(-1.0))**2*cos(5*x)**2 + 1 + 0.000408163265306125*sin(5*x)**2*cos((0.979999999999998 - 6.99999999999999*x)**(-1.0))**2/(x**4 - 0.56*x**3 + 0.1176*x**2 - 0.010976*x + 0.00038416) + 0.0285714285714287*sin(5*x)*sin((0.979999999999998 - 6.99999999999999*x)**(-1.0))*cos(5*x)*cos((0.979999999999998 - 6.99999999999999*x)**(-1.0))/(x**2 - 0.28*x + 0.0196))\n"
          ]
        },
        {
          "output_type": "stream",
          "name": "stdout",
          "text": [
            "Новая точка: (0.15, 0.06999999999999995)\n"
          ]
        },
        {
          "output_type": "stream",
          "name": "stderr",
          "text": [
            "<lambdifygenerated-5180>:2: RuntimeWarning: divide by zero encountered in scalar divide\n",
            "  return 5*sqrt(sin((0.629999999999998 - 3.99999999999999*x)**(-1.0))**2*cos(5*x)**2 + 0.679999999999996 + 0.00250000000000001*sin(5*x)**2*cos((0.629999999999998 - 3.99999999999999*x)**(-1.0))**2/(x**4 - 0.63*x**3 + 0.1488375*x**2 - 0.0156279375*x + 0.0006153500390625) + 0.1*sin(5*x)*sin((0.629999999999998 - 3.99999999999999*x)**(-1.0))*cos(5*x)*cos((0.629999999999998 - 3.99999999999999*x)**(-1.0))/(x**2 - 0.315*x + 0.02480625))\n",
            "<lambdifygenerated-5180>:2: RuntimeWarning: invalid value encountered in sqrt\n",
            "  return 5*sqrt(sin((0.629999999999998 - 3.99999999999999*x)**(-1.0))**2*cos(5*x)**2 + 0.679999999999996 + 0.00250000000000001*sin(5*x)**2*cos((0.629999999999998 - 3.99999999999999*x)**(-1.0))**2/(x**4 - 0.63*x**3 + 0.1488375*x**2 - 0.0156279375*x + 0.0006153500390625) + 0.1*sin(5*x)*sin((0.629999999999998 - 3.99999999999999*x)**(-1.0))*cos(5*x)*cos((0.629999999999998 - 3.99999999999999*x)**(-1.0))/(x**2 - 0.315*x + 0.02480625))\n",
            "<lambdifygenerated-5181>:2: RuntimeWarning: invalid value encountered in sqrt\n",
            "  return 5.09901951359277*sqrt(0.961538461538465*sin((0.769999999999998 - 4.99999999999999*x)**(-1.0))**2*cos(5*x)**2 + 1 + 0.00153846153846155*sin(5*x)**2*cos((0.769999999999998 - 4.99999999999999*x)**(-1.0))**2/(x**4 - 0.616*x**3 + 0.142296*x**2 - 0.014609056*x + 0.000562448656) + 0.0769230769230774*sin(5*x)*sin((0.769999999999998 - 4.99999999999999*x)**(-1.0))*cos(5*x)*cos((0.769999999999998 - 4.99999999999999*x)**(-1.0))/(x**2 - 0.308*x + 0.023716))\n",
            "<lambdifygenerated-5183>:2: RuntimeWarning: invalid value encountered in sqrt\n",
            "  return 7.07106781186546*sqrt(0.500000000000001*sin((1.05 - 6.99999999999999*x)**(-1.0))**2*cos(5*x)**2 + 1 + 0.000408163265306125*sin(5*x)**2*cos((1.05 - 6.99999999999999*x)**(-1.0))**2/(x**4 - 0.6*x**3 + 0.135*x**2 - 0.0135*x + 0.00050625) + 0.0285714285714287*sin(5*x)*sin((1.05 - 6.99999999999999*x)**(-1.0))*cos(5*x)*cos((1.05 - 6.99999999999999*x)**(-1.0))/(x**2 - 0.3*x + 0.0225))\n",
            "<lambdifygenerated-5183>:2: RuntimeWarning: divide by zero encountered in scalar divide\n",
            "  return 7.07106781186546*sqrt(0.500000000000001*sin((1.05 - 6.99999999999999*x)**(-1.0))**2*cos(5*x)**2 + 1 + 0.000408163265306125*sin(5*x)**2*cos((1.05 - 6.99999999999999*x)**(-1.0))**2/(x**4 - 0.6*x**3 + 0.135*x**2 - 0.0135*x + 0.00050625) + 0.0285714285714287*sin(5*x)*sin((1.05 - 6.99999999999999*x)**(-1.0))*cos(5*x)*cos((1.05 - 6.99999999999999*x)**(-1.0))/(x**2 - 0.3*x + 0.0225))\n"
          ]
        },
        {
          "output_type": "stream",
          "name": "stdout",
          "text": [
            "Новая точка: (0.16, 0.06999999999999995)\n"
          ]
        },
        {
          "output_type": "stream",
          "name": "stderr",
          "text": [
            "<lambdifygenerated-5281>:2: RuntimeWarning: invalid value encountered in sqrt\n",
            "  return 5*sqrt(sin((0.669999999999998 - 3.99999999999999*x)**(-1.0))**2*cos(5*x)**2 + 0.679999999999996 + 0.00250000000000001*sin(5*x)**2*cos((0.669999999999998 - 3.99999999999999*x)**(-1.0))**2/(x**4 - 0.67*x**3 + 0.1683375*x**2 - 0.0187976875*x + 0.000787153164062501) + 0.1*sin(5*x)*sin((0.669999999999998 - 3.99999999999999*x)**(-1.0))*cos(5*x)*cos((0.669999999999998 - 3.99999999999999*x)**(-1.0))/(x**2 - 0.335*x + 0.02805625))\n",
            "<lambdifygenerated-5282>:2: RuntimeWarning: invalid value encountered in sqrt\n",
            "  return 5.09901951359277*sqrt(0.961538461538465*sin((0.819999999999998 - 4.99999999999999*x)**(-1.0))**2*cos(5*x)**2 + 1 + 0.00153846153846155*sin(5*x)**2*cos((0.819999999999998 - 4.99999999999999*x)**(-1.0))**2/(x**4 - 0.656*x**3 + 0.161376*x**2 - 0.017643776*x + 0.000723394816) + 0.0769230769230774*sin(5*x)*sin((0.819999999999998 - 4.99999999999999*x)**(-1.0))*cos(5*x)*cos((0.819999999999998 - 4.99999999999999*x)**(-1.0))/(x**2 - 0.328*x + 0.026896))\n",
            "<lambdifygenerated-5283>:2: RuntimeWarning: invalid value encountered in sqrt\n",
            "  return 6.08276253029821*sqrt(0.675675675675678*sin((0.969999999999998 - 5.99999999999999*x)**(-1.0))**2*cos(5*x)**2 + 1 + 0.000750750750750756*sin(5*x)**2*cos((0.969999999999998 - 5.99999999999999*x)**(-1.0))**2/(x**4 - 0.646666666666667*x**3 + 0.156816666666667*x**2 - 0.0169013518518519*x + 0.000683096304012346) + 0.0450450450450453*sin(5*x)*sin((0.969999999999998 - 5.99999999999999*x)**(-1.0))*cos(5*x)*cos((0.969999999999998 - 5.99999999999999*x)**(-1.0))/(x**2 - 0.323333333333333*x + 0.0261361111111111))\n",
            "<lambdifygenerated-5284>:2: RuntimeWarning: invalid value encountered in sqrt\n",
            "  return 7.07106781186546*sqrt(0.500000000000001*sin((1.12 - 6.99999999999999*x)**(-1.0))**2*cos(5*x)**2 + 1 + 0.000408163265306125*sin(5*x)**2*cos((1.12 - 6.99999999999999*x)**(-1.0))**2/(x**4 - 0.64*x**3 + 0.1536*x**2 - 0.016384*x + 0.00065536) + 0.0285714285714287*sin(5*x)*sin((1.12 - 6.99999999999999*x)**(-1.0))*cos(5*x)*cos((1.12 - 6.99999999999999*x)**(-1.0))/(x**2 - 0.32*x + 0.0256))\n"
          ]
        },
        {
          "output_type": "stream",
          "name": "stdout",
          "text": [
            "Новая точка: (0.17, 0.06999999999999995)\n"
          ]
        },
        {
          "output_type": "stream",
          "name": "stderr",
          "text": [
            "<lambdifygenerated-5382>:2: RuntimeWarning: invalid value encountered in sqrt\n",
            "  return 5*sqrt(sin((0.709999999999998 - 3.99999999999999*x)**(-1.0))**2*cos(5*x)**2 + 0.679999999999996 + 0.00250000000000001*sin(5*x)**2*cos((0.709999999999998 - 3.99999999999999*x)**(-1.0))**2/(x**4 - 0.71*x**3 + 0.1890375*x**2 - 0.0223694375*x + 0.000992643789062501) + 0.1*sin(5*x)*sin((0.709999999999998 - 3.99999999999999*x)**(-1.0))*cos(5*x)*cos((0.709999999999998 - 3.99999999999999*x)**(-1.0))/(x**2 - 0.355*x + 0.03150625))\n",
            "<lambdifygenerated-5383>:2: RuntimeWarning: invalid value encountered in sqrt\n",
            "  return 5.09901951359277*sqrt(0.961538461538465*sin((0.869999999999998 - 4.99999999999999*x)**(-1.0))**2*cos(5*x)**2 + 1 + 0.00153846153846155*sin(5*x)**2*cos((0.869999999999998 - 4.99999999999999*x)**(-1.0))**2/(x**4 - 0.696*x**3 + 0.181656*x**2 - 0.021072096*x + 0.000916636176) + 0.0769230769230774*sin(5*x)*sin((0.869999999999998 - 4.99999999999999*x)**(-1.0))*cos(5*x)*cos((0.869999999999998 - 4.99999999999999*x)**(-1.0))/(x**2 - 0.348*x + 0.030276))\n",
            "<lambdifygenerated-5385>:2: RuntimeWarning: invalid value encountered in sqrt\n",
            "  return 7.07106781186546*sqrt(0.500000000000001*sin((1.19 - 6.99999999999999*x)**(-1.0))**2*cos(5*x)**2 + 1 + 0.000408163265306125*sin(5*x)**2*cos((1.19 - 6.99999999999999*x)**(-1.0))**2/(x**4 - 0.68*x**3 + 0.1734*x**2 - 0.019652*x + 0.00083521) + 0.0285714285714287*sin(5*x)*sin((1.19 - 6.99999999999999*x)**(-1.0))*cos(5*x)*cos((1.19 - 6.99999999999999*x)**(-1.0))/(x**2 - 0.34*x + 0.0289))\n"
          ]
        },
        {
          "output_type": "stream",
          "name": "stdout",
          "text": [
            "Новая точка: (0.18000000000000002, 0.06999999999999995)\n"
          ]
        },
        {
          "output_type": "stream",
          "name": "stderr",
          "text": [
            "<lambdifygenerated-5483>:2: RuntimeWarning: divide by zero encountered in scalar divide\n",
            "  return 5*sqrt(sin((0.749999999999998 - 3.99999999999999*x)**(-1.0))**2*cos(5*x)**2 + 0.679999999999996 + 0.00250000000000001*sin(5*x)**2*cos((0.749999999999998 - 3.99999999999999*x)**(-1.0))**2/(x**4 - 0.75*x**3 + 0.2109375*x**2 - 0.0263671875*x + 0.0012359619140625) + 0.1*sin(5*x)*sin((0.749999999999998 - 3.99999999999999*x)**(-1.0))*cos(5*x)*cos((0.749999999999998 - 3.99999999999999*x)**(-1.0))/(x**2 - 0.375*x + 0.03515625))\n",
            "<lambdifygenerated-5483>:2: RuntimeWarning: invalid value encountered in sqrt\n",
            "  return 5*sqrt(sin((0.749999999999998 - 3.99999999999999*x)**(-1.0))**2*cos(5*x)**2 + 0.679999999999996 + 0.00250000000000001*sin(5*x)**2*cos((0.749999999999998 - 3.99999999999999*x)**(-1.0))**2/(x**4 - 0.75*x**3 + 0.2109375*x**2 - 0.0263671875*x + 0.0012359619140625) + 0.1*sin(5*x)*sin((0.749999999999998 - 3.99999999999999*x)**(-1.0))*cos(5*x)*cos((0.749999999999998 - 3.99999999999999*x)**(-1.0))/(x**2 - 0.375*x + 0.03515625))\n",
            "<lambdifygenerated-5484>:2: RuntimeWarning: invalid value encountered in sqrt\n",
            "  return 5.09901951359277*sqrt(0.961538461538465*sin((0.919999999999998 - 4.99999999999999*x)**(-1.0))**2*cos(5*x)**2 + 1 + 0.00153846153846155*sin(5*x)**2*cos((0.919999999999998 - 4.99999999999999*x)**(-1.0))**2/(x**4 - 0.736*x**3 + 0.203136*x**2 - 0.024918016*x + 0.001146228736) + 0.0769230769230774*sin(5*x)*sin((0.919999999999998 - 4.99999999999999*x)**(-1.0))*cos(5*x)*cos((0.919999999999998 - 4.99999999999999*x)**(-1.0))/(x**2 - 0.368*x + 0.033856))\n",
            "<lambdifygenerated-5486>:2: RuntimeWarning: invalid value encountered in sqrt\n",
            "  return 7.07106781186546*sqrt(0.500000000000001*sin((1.26 - 6.99999999999999*x)**(-1.0))**2*cos(5*x)**2 + 1 + 0.000408163265306125*sin(5*x)**2*cos((1.26 - 6.99999999999999*x)**(-1.0))**2/(x**4 - 0.72*x**3 + 0.1944*x**2 - 0.023328*x + 0.00104976) + 0.0285714285714287*sin(5*x)*sin((1.26 - 6.99999999999999*x)**(-1.0))*cos(5*x)*cos((1.26 - 6.99999999999999*x)**(-1.0))/(x**2 - 0.36*x + 0.0324))\n"
          ]
        },
        {
          "output_type": "stream",
          "name": "stdout",
          "text": [
            "Новая точка: (0.19000000000000003, 0.06999999999999995)\n"
          ]
        },
        {
          "output_type": "stream",
          "name": "stderr",
          "text": [
            "<lambdifygenerated-5584>:2: RuntimeWarning: divide by zero encountered in scalar divide\n",
            "  return 5*sqrt(sin((0.789999999999998 - 3.99999999999999*x)**(-1.0))**2*cos(5*x)**2 + 0.679999999999996 + 0.00250000000000001*sin(5*x)**2*cos((0.789999999999998 - 3.99999999999999*x)**(-1.0))**2/(x**4 - 0.79*x**3 + 0.2340375*x**2 - 0.0308149375*x + 0.0015214875390625) + 0.1*sin(5*x)*sin((0.789999999999998 - 3.99999999999999*x)**(-1.0))*cos(5*x)*cos((0.789999999999998 - 3.99999999999999*x)**(-1.0))/(x**2 - 0.395*x + 0.03900625))\n",
            "<lambdifygenerated-5584>:2: RuntimeWarning: invalid value encountered in sqrt\n",
            "  return 5*sqrt(sin((0.789999999999998 - 3.99999999999999*x)**(-1.0))**2*cos(5*x)**2 + 0.679999999999996 + 0.00250000000000001*sin(5*x)**2*cos((0.789999999999998 - 3.99999999999999*x)**(-1.0))**2/(x**4 - 0.79*x**3 + 0.2340375*x**2 - 0.0308149375*x + 0.0015214875390625) + 0.1*sin(5*x)*sin((0.789999999999998 - 3.99999999999999*x)**(-1.0))*cos(5*x)*cos((0.789999999999998 - 3.99999999999999*x)**(-1.0))/(x**2 - 0.395*x + 0.03900625))\n",
            "<lambdifygenerated-5585>:2: RuntimeWarning: invalid value encountered in sqrt\n",
            "  return 5.09901951359277*sqrt(0.961538461538465*sin((0.969999999999998 - 4.99999999999999*x)**(-1.0))**2*cos(5*x)**2 + 1 + 0.00153846153846155*sin(5*x)**2*cos((0.969999999999998 - 4.99999999999999*x)**(-1.0))**2/(x**4 - 0.776*x**3 + 0.225816*x**2 - 0.029205536*x + 0.001416468496) + 0.0769230769230774*sin(5*x)*sin((0.969999999999998 - 4.99999999999999*x)**(-1.0))*cos(5*x)*cos((0.969999999999998 - 4.99999999999999*x)**(-1.0))/(x**2 - 0.388*x + 0.037636))\n",
            "<lambdifygenerated-5586>:2: RuntimeWarning: invalid value encountered in sqrt\n",
            "  return 6.08276253029821*sqrt(0.675675675675678*sin((1.15 - 5.99999999999999*x)**(-1.0))**2*cos(5*x)**2 + 1 + 0.000750750750750756*sin(5*x)**2*cos((1.15 - 5.99999999999999*x)**(-1.0))**2/(x**4 - 0.766666666666667*x**3 + 0.220416666666667*x**2 - 0.0281643518518519*x + 0.0013495418595679) + 0.0450450450450453*sin(5*x)*sin((1.15 - 5.99999999999999*x)**(-1.0))*cos(5*x)*cos((1.15 - 5.99999999999999*x)**(-1.0))/(x**2 - 0.383333333333333*x + 0.0367361111111111))\n",
            "<lambdifygenerated-5587>:2: RuntimeWarning: divide by zero encountered in scalar divide\n",
            "  return 7.07106781186546*sqrt(0.500000000000001*sin((1.33 - 6.99999999999999*x)**(-1.0))**2*cos(5*x)**2 + 1 + 0.000408163265306125*sin(5*x)**2*cos((1.33 - 6.99999999999999*x)**(-1.0))**2/(x**4 - 0.76*x**3 + 0.2166*x**2 - 0.027436*x + 0.00130321) + 0.0285714285714287*sin(5*x)*sin((1.33 - 6.99999999999999*x)**(-1.0))*cos(5*x)*cos((1.33 - 6.99999999999999*x)**(-1.0))/(x**2 - 0.38*x + 0.0361))\n",
            "<lambdifygenerated-5587>:2: RuntimeWarning: invalid value encountered in sqrt\n",
            "  return 7.07106781186546*sqrt(0.500000000000001*sin((1.33 - 6.99999999999999*x)**(-1.0))**2*cos(5*x)**2 + 1 + 0.000408163265306125*sin(5*x)**2*cos((1.33 - 6.99999999999999*x)**(-1.0))**2/(x**4 - 0.76*x**3 + 0.2166*x**2 - 0.027436*x + 0.00130321) + 0.0285714285714287*sin(5*x)*sin((1.33 - 6.99999999999999*x)**(-1.0))*cos(5*x)*cos((1.33 - 6.99999999999999*x)**(-1.0))/(x**2 - 0.38*x + 0.0361))\n"
          ]
        },
        {
          "output_type": "stream",
          "name": "stdout",
          "text": [
            "Новая точка: (0.20000000000000004, 0.06999999999999995)\n"
          ]
        },
        {
          "output_type": "stream",
          "name": "stderr",
          "text": [
            "<lambdifygenerated-5685>:2: RuntimeWarning: invalid value encountered in sqrt\n",
            "  return 5*sqrt(sin((0.829999999999998 - 3.99999999999999*x)**(-1.0))**2*cos(5*x)**2 + 0.679999999999996 + 0.00250000000000001*sin(5*x)**2*cos((0.829999999999998 - 3.99999999999999*x)**(-1.0))**2/(x**4 - 0.83*x**3 + 0.2583375*x**2 - 0.0357366875*x + 0.0018538406640625) + 0.1*sin(5*x)*sin((0.829999999999998 - 3.99999999999999*x)**(-1.0))*cos(5*x)*cos((0.829999999999998 - 3.99999999999999*x)**(-1.0))/(x**2 - 0.415*x + 0.04305625))\n",
            "<lambdifygenerated-5686>:2: RuntimeWarning: divide by zero encountered in scalar divide\n",
            "  return 5.09901951359277*sqrt(0.961538461538465*sin((1.02 - 4.99999999999999*x)**(-1.0))**2*cos(5*x)**2 + 1 + 0.00153846153846155*sin(5*x)**2*cos((1.02 - 4.99999999999999*x)**(-1.0))**2/(x**4 - 0.816*x**3 + 0.249696*x**2 - 0.033958656*x + 0.001731891456) + 0.0769230769230774*sin(5*x)*sin((1.02 - 4.99999999999999*x)**(-1.0))*cos(5*x)*cos((1.02 - 4.99999999999999*x)**(-1.0))/(x**2 - 0.408*x + 0.041616))\n",
            "<lambdifygenerated-5686>:2: RuntimeWarning: invalid value encountered in sqrt\n",
            "  return 5.09901951359277*sqrt(0.961538461538465*sin((1.02 - 4.99999999999999*x)**(-1.0))**2*cos(5*x)**2 + 1 + 0.00153846153846155*sin(5*x)**2*cos((1.02 - 4.99999999999999*x)**(-1.0))**2/(x**4 - 0.816*x**3 + 0.249696*x**2 - 0.033958656*x + 0.001731891456) + 0.0769230769230774*sin(5*x)*sin((1.02 - 4.99999999999999*x)**(-1.0))*cos(5*x)*cos((1.02 - 4.99999999999999*x)**(-1.0))/(x**2 - 0.408*x + 0.041616))\n",
            "<lambdifygenerated-5688>:2: RuntimeWarning: invalid value encountered in sqrt\n",
            "  return 7.07106781186546*sqrt(0.500000000000001*sin((1.4 - 6.99999999999999*x)**(-1.0))**2*cos(5*x)**2 + 1 + 0.000408163265306125*sin(5*x)**2*cos((1.4 - 6.99999999999999*x)**(-1.0))**2/(x**4 - 0.8*x**3 + 0.24*x**2 - 0.032*x + 0.0016) + 0.0285714285714287*sin(5*x)*sin((1.4 - 6.99999999999999*x)**(-1.0))*cos(5*x)*cos((1.4 - 6.99999999999999*x)**(-1.0))/(x**2 - 0.4*x + 0.04))\n"
          ]
        },
        {
          "output_type": "stream",
          "name": "stdout",
          "text": [
            "Новая точка: (0.21000000000000005, 0.06999999999999995)\n"
          ]
        },
        {
          "output_type": "error",
          "ename": "ZeroDivisionError",
          "evalue": "0.0 cannot be raised to a negative power",
          "traceback": [
            "\u001b[0;31m---------------------------------------------------------------------------\u001b[0m",
            "\u001b[0;31mZeroDivisionError\u001b[0m                         Traceback (most recent call last)",
            "\u001b[0;32m<ipython-input-14-472097a1755f>\u001b[0m in \u001b[0;36m<cell line: 8>\u001b[0;34m()\u001b[0m\n\u001b[1;32m     14\u001b[0m         \u001b[0;31m# Первое слагаемое функционала\u001b[0m\u001b[0;34m\u001b[0m\u001b[0;34m\u001b[0m\u001b[0m\n\u001b[1;32m     15\u001b[0m         \u001b[0mF\u001b[0m \u001b[0;34m=\u001b[0m \u001b[0ms\u001b[0m\u001b[0;34m.\u001b[0m\u001b[0mlambdify\u001b[0m\u001b[0;34m(\u001b[0m\u001b[0mx\u001b[0m\u001b[0;34m,\u001b[0m \u001b[0mfunc_F\u001b[0m\u001b[0;34m(\u001b[0m\u001b[0mx_start\u001b[0m\u001b[0;34m,\u001b[0m \u001b[0mx1\u001b[0m\u001b[0;34m,\u001b[0m \u001b[0my_start\u001b[0m\u001b[0;34m,\u001b[0m \u001b[0my1\u001b[0m\u001b[0;34m)\u001b[0m\u001b[0;34m)\u001b[0m\u001b[0;34m\u001b[0m\u001b[0;34m\u001b[0m\u001b[0m\n\u001b[0;32m---> 16\u001b[0;31m         \u001b[0mfirst_add\u001b[0m \u001b[0;34m=\u001b[0m \u001b[0malpha\u001b[0m \u001b[0;34m/\u001b[0m \u001b[0;36m2\u001b[0m \u001b[0;34m*\u001b[0m \u001b[0;34m(\u001b[0m\u001b[0mquad\u001b[0m\u001b[0;34m(\u001b[0m\u001b[0mF\u001b[0m\u001b[0;34m,\u001b[0m \u001b[0mx_start\u001b[0m\u001b[0;34m,\u001b[0m \u001b[0mx1\u001b[0m\u001b[0;34m)\u001b[0m\u001b[0;34m[\u001b[0m\u001b[0;36m0\u001b[0m\u001b[0;34m]\u001b[0m\u001b[0;34m)\u001b[0m \u001b[0;34m**\u001b[0m \u001b[0;36m2\u001b[0m\u001b[0;34m\u001b[0m\u001b[0;34m\u001b[0m\u001b[0m\n\u001b[0m\u001b[1;32m     17\u001b[0m         \u001b[0;31m# Второе слагаемое функционала\u001b[0m\u001b[0;34m\u001b[0m\u001b[0;34m\u001b[0m\u001b[0m\n\u001b[1;32m     18\u001b[0m         \u001b[0msecond_add\u001b[0m \u001b[0;34m=\u001b[0m \u001b[0mbeta\u001b[0m \u001b[0;34m*\u001b[0m \u001b[0mquad\u001b[0m\u001b[0;34m(\u001b[0m\u001b[0mF\u001b[0m\u001b[0;34m,\u001b[0m \u001b[0mx_start\u001b[0m\u001b[0;34m,\u001b[0m \u001b[0mx1\u001b[0m\u001b[0;34m)\u001b[0m\u001b[0;34m[\u001b[0m\u001b[0;36m0\u001b[0m\u001b[0;34m]\u001b[0m\u001b[0;34m\u001b[0m\u001b[0;34m\u001b[0m\u001b[0m\n",
            "\u001b[0;32m/usr/local/lib/python3.10/dist-packages/scipy/integrate/_quadpack_py.py\u001b[0m in \u001b[0;36mquad\u001b[0;34m(func, a, b, args, full_output, epsabs, epsrel, limit, points, weight, wvar, wopts, maxp1, limlst, complex_func)\u001b[0m\n\u001b[1;32m    462\u001b[0m \u001b[0;34m\u001b[0m\u001b[0m\n\u001b[1;32m    463\u001b[0m     \u001b[0;32mif\u001b[0m \u001b[0mweight\u001b[0m \u001b[0;32mis\u001b[0m \u001b[0;32mNone\u001b[0m\u001b[0;34m:\u001b[0m\u001b[0;34m\u001b[0m\u001b[0;34m\u001b[0m\u001b[0m\n\u001b[0;32m--> 464\u001b[0;31m         retval = _quad(func, a, b, args, full_output, epsabs, epsrel, limit,\n\u001b[0m\u001b[1;32m    465\u001b[0m                        points)\n\u001b[1;32m    466\u001b[0m     \u001b[0;32melse\u001b[0m\u001b[0;34m:\u001b[0m\u001b[0;34m\u001b[0m\u001b[0;34m\u001b[0m\u001b[0m\n",
            "\u001b[0;32m/usr/local/lib/python3.10/dist-packages/scipy/integrate/_quadpack_py.py\u001b[0m in \u001b[0;36m_quad\u001b[0;34m(func, a, b, args, full_output, epsabs, epsrel, limit, points)\u001b[0m\n\u001b[1;32m    609\u001b[0m     \u001b[0;32mif\u001b[0m \u001b[0mpoints\u001b[0m \u001b[0;32mis\u001b[0m \u001b[0;32mNone\u001b[0m\u001b[0;34m:\u001b[0m\u001b[0;34m\u001b[0m\u001b[0;34m\u001b[0m\u001b[0m\n\u001b[1;32m    610\u001b[0m         \u001b[0;32mif\u001b[0m \u001b[0minfbounds\u001b[0m \u001b[0;34m==\u001b[0m \u001b[0;36m0\u001b[0m\u001b[0;34m:\u001b[0m\u001b[0;34m\u001b[0m\u001b[0;34m\u001b[0m\u001b[0m\n\u001b[0;32m--> 611\u001b[0;31m             \u001b[0;32mreturn\u001b[0m \u001b[0m_quadpack\u001b[0m\u001b[0;34m.\u001b[0m\u001b[0m_qagse\u001b[0m\u001b[0;34m(\u001b[0m\u001b[0mfunc\u001b[0m\u001b[0;34m,\u001b[0m\u001b[0ma\u001b[0m\u001b[0;34m,\u001b[0m\u001b[0mb\u001b[0m\u001b[0;34m,\u001b[0m\u001b[0margs\u001b[0m\u001b[0;34m,\u001b[0m\u001b[0mfull_output\u001b[0m\u001b[0;34m,\u001b[0m\u001b[0mepsabs\u001b[0m\u001b[0;34m,\u001b[0m\u001b[0mepsrel\u001b[0m\u001b[0;34m,\u001b[0m\u001b[0mlimit\u001b[0m\u001b[0;34m)\u001b[0m\u001b[0;34m\u001b[0m\u001b[0;34m\u001b[0m\u001b[0m\n\u001b[0m\u001b[1;32m    612\u001b[0m         \u001b[0;32melse\u001b[0m\u001b[0;34m:\u001b[0m\u001b[0;34m\u001b[0m\u001b[0;34m\u001b[0m\u001b[0m\n\u001b[1;32m    613\u001b[0m             return _quadpack._qagie(func, bound, infbounds, args, full_output, \n",
            "\u001b[0;32m<lambdifygenerated-5786>\u001b[0m in \u001b[0;36m_lambdifygenerated\u001b[0;34m(x)\u001b[0m\n\u001b[1;32m      1\u001b[0m \u001b[0;32mdef\u001b[0m \u001b[0m_lambdifygenerated\u001b[0m\u001b[0;34m(\u001b[0m\u001b[0mx\u001b[0m\u001b[0;34m)\u001b[0m\u001b[0;34m:\u001b[0m\u001b[0;34m\u001b[0m\u001b[0;34m\u001b[0m\u001b[0m\n\u001b[0;32m----> 2\u001b[0;31m     \u001b[0;32mreturn\u001b[0m \u001b[0;36m5\u001b[0m\u001b[0;34m*\u001b[0m\u001b[0msqrt\u001b[0m\u001b[0;34m(\u001b[0m\u001b[0msin\u001b[0m\u001b[0;34m(\u001b[0m\u001b[0;34m(\u001b[0m\u001b[0;36m0.869999999999998\u001b[0m \u001b[0;34m-\u001b[0m \u001b[0;36m3.99999999999999\u001b[0m\u001b[0;34m*\u001b[0m\u001b[0mx\u001b[0m\u001b[0;34m)\u001b[0m\u001b[0;34m**\u001b[0m\u001b[0;34m(\u001b[0m\u001b[0;34m-\u001b[0m\u001b[0;36m1.0\u001b[0m\u001b[0;34m)\u001b[0m\u001b[0;34m)\u001b[0m\u001b[0;34m**\u001b[0m\u001b[0;36m2\u001b[0m\u001b[0;34m*\u001b[0m\u001b[0mcos\u001b[0m\u001b[0;34m(\u001b[0m\u001b[0;36m5\u001b[0m\u001b[0;34m*\u001b[0m\u001b[0mx\u001b[0m\u001b[0;34m)\u001b[0m\u001b[0;34m**\u001b[0m\u001b[0;36m2\u001b[0m \u001b[0;34m+\u001b[0m \u001b[0;36m0.679999999999996\u001b[0m \u001b[0;34m+\u001b[0m \u001b[0;36m0.00250000000000001\u001b[0m\u001b[0;34m*\u001b[0m\u001b[0msin\u001b[0m\u001b[0;34m(\u001b[0m\u001b[0;36m5\u001b[0m\u001b[0;34m*\u001b[0m\u001b[0mx\u001b[0m\u001b[0;34m)\u001b[0m\u001b[0;34m**\u001b[0m\u001b[0;36m2\u001b[0m\u001b[0;34m*\u001b[0m\u001b[0mcos\u001b[0m\u001b[0;34m(\u001b[0m\u001b[0;34m(\u001b[0m\u001b[0;36m0.869999999999998\u001b[0m \u001b[0;34m-\u001b[0m \u001b[0;36m3.99999999999999\u001b[0m\u001b[0;34m*\u001b[0m\u001b[0mx\u001b[0m\u001b[0;34m)\u001b[0m\u001b[0;34m**\u001b[0m\u001b[0;34m(\u001b[0m\u001b[0;34m-\u001b[0m\u001b[0;36m1.0\u001b[0m\u001b[0;34m)\u001b[0m\u001b[0;34m)\u001b[0m\u001b[0;34m**\u001b[0m\u001b[0;36m2\u001b[0m\u001b[0;34m/\u001b[0m\u001b[0;34m(\u001b[0m\u001b[0mx\u001b[0m\u001b[0;34m**\u001b[0m\u001b[0;36m4\u001b[0m \u001b[0;34m-\u001b[0m \u001b[0;36m0.87\u001b[0m\u001b[0;34m*\u001b[0m\u001b[0mx\u001b[0m\u001b[0;34m**\u001b[0m\u001b[0;36m3\u001b[0m \u001b[0;34m+\u001b[0m \u001b[0;36m0.2838375\u001b[0m\u001b[0;34m*\u001b[0m\u001b[0mx\u001b[0m\u001b[0;34m**\u001b[0m\u001b[0;36m2\u001b[0m \u001b[0;34m-\u001b[0m \u001b[0;36m0.0411564375\u001b[0m\u001b[0;34m*\u001b[0m\u001b[0mx\u001b[0m \u001b[0;34m+\u001b[0m \u001b[0;36m0.0022378812890625\u001b[0m\u001b[0;34m)\u001b[0m \u001b[0;34m+\u001b[0m \u001b[0;36m0.1\u001b[0m\u001b[0;34m*\u001b[0m\u001b[0msin\u001b[0m\u001b[0;34m(\u001b[0m\u001b[0;36m5\u001b[0m\u001b[0;34m*\u001b[0m\u001b[0mx\u001b[0m\u001b[0;34m)\u001b[0m\u001b[0;34m*\u001b[0m\u001b[0msin\u001b[0m\u001b[0;34m(\u001b[0m\u001b[0;34m(\u001b[0m\u001b[0;36m0.869999999999998\u001b[0m \u001b[0;34m-\u001b[0m \u001b[0;36m3.99999999999999\u001b[0m\u001b[0;34m*\u001b[0m\u001b[0mx\u001b[0m\u001b[0;34m)\u001b[0m\u001b[0;34m**\u001b[0m\u001b[0;34m(\u001b[0m\u001b[0;34m-\u001b[0m\u001b[0...\n\u001b[0m",
            "\u001b[0;31mZeroDivisionError\u001b[0m: 0.0 cannot be raised to a negative power"
          ]
        }
      ]
    },
    {
      "cell_type": "markdown",
      "source": [
        "Визуализация полученного результата\n"
      ],
      "metadata": {
        "id": "rtixftOu3W4B"
      }
    },
    {
      "cell_type": "code",
      "source": [
        "def drawing_the_result(points_x, points_y):\n",
        "  xx, yy = np.meshgrid(np.linspace(x_0, x_l, h), np.linspace(y_0, y_l, h))\n",
        "  fig, ax = plt.subplots(1, 1, figsize=(4, 4))\n",
        "  def fi(x, y):\n",
        "    return np.sin(5*x) * np.sin(y)\n",
        "  im = ax.contourf(xx, yy, fi(xx, yy), np.linspace(- 0.1, 1.8, 1000), cmap=\"gray\")\n",
        "  ax.scatter(points_x, points_y, marker='o', color='blue')\n",
        "  axins = inset_axes(ax,\n",
        "                  width=\"7%\",\n",
        "                  height=\"100%\",\n",
        "                  loc='lower left',\n",
        "                  bbox_to_anchor=(1.05, 0., 1, 1),\n",
        "                  bbox_transform=ax.transAxes,\n",
        "                  borderpad=0,\n",
        "                  )\n",
        "  plt.colorbar(im, cax=axins)\n",
        "  plt.tight_layout()\n",
        "  plt.show()\n",
        "drawing_the_result(points_x, points_y)"
      ],
      "metadata": {
        "id": "ZBHRXBnT3a2c",
        "colab": {
          "base_uri": "https://localhost:8080/",
          "height": 176
        },
        "outputId": "445a143c-5303-4dc9-b44f-cffd4c0f798e"
      },
      "execution_count": null,
      "outputs": [
        {
          "output_type": "error",
          "ename": "NameError",
          "evalue": "name 'points_x' is not defined",
          "traceback": [
            "\u001b[0;31m---------------------------------------------------------------------------\u001b[0m",
            "\u001b[0;31mNameError\u001b[0m                                 Traceback (most recent call last)",
            "\u001b[0;32m<ipython-input-1-e1df80f97fcc>\u001b[0m in \u001b[0;36m<cell line: 19>\u001b[0;34m()\u001b[0m\n\u001b[1;32m     17\u001b[0m   \u001b[0mplt\u001b[0m\u001b[0;34m.\u001b[0m\u001b[0mtight_layout\u001b[0m\u001b[0;34m(\u001b[0m\u001b[0;34m)\u001b[0m\u001b[0;34m\u001b[0m\u001b[0;34m\u001b[0m\u001b[0m\n\u001b[1;32m     18\u001b[0m   \u001b[0mplt\u001b[0m\u001b[0;34m.\u001b[0m\u001b[0mshow\u001b[0m\u001b[0;34m(\u001b[0m\u001b[0;34m)\u001b[0m\u001b[0;34m\u001b[0m\u001b[0;34m\u001b[0m\u001b[0m\n\u001b[0;32m---> 19\u001b[0;31m \u001b[0mdrawing_the_result\u001b[0m\u001b[0;34m(\u001b[0m\u001b[0mpoints_x\u001b[0m\u001b[0;34m,\u001b[0m \u001b[0mpoints_y\u001b[0m\u001b[0;34m)\u001b[0m\u001b[0;34m\u001b[0m\u001b[0;34m\u001b[0m\u001b[0m\n\u001b[0m",
            "\u001b[0;31mNameError\u001b[0m: name 'points_x' is not defined"
          ]
        }
      ]
    }
  ]
}